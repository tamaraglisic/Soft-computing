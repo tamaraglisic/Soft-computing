{
  "nbformat": 4,
  "nbformat_minor": 0,
  "metadata": {
    "colab": {
      "name": "SVM_classifier.ipynb",
      "provenance": [],
      "collapsed_sections": [],
      "toc_visible": true
    },
    "kernelspec": {
      "display_name": "Python 3",
      "language": "python",
      "name": "python3"
    },
    "language_info": {
      "codemirror_mode": {
        "name": "ipython",
        "version": 3
      },
      "file_extension": ".py",
      "mimetype": "text/x-python",
      "name": "python",
      "nbconvert_exporter": "python",
      "pygments_lexer": "ipython3",
      "version": "3.6.5"
    }
  },
  "cells": [
    {
      "cell_type": "code",
      "metadata": {
        "id": "cJsuIb73rnVZ"
      },
      "source": [
        "import numpy as np\n",
        "import pandas as pd\n",
        "import os\n",
        "import string\n",
        "import pickle\n",
        "from sklearn.model_selection import train_test_split\n",
        "from sklearn.preprocessing import StandardScaler\n",
        "from sklearn import svm\n",
        "from sklearn import metrics\n",
        "import cv2\n",
        "from sklearn.model_selection import GridSearchCV"
      ],
      "execution_count": 70,
      "outputs": []
    },
    {
      "cell_type": "code",
      "metadata": {
        "id": "llbYGrUUBmA-"
      },
      "source": [
        "# dataset = pd.read_csv(\"leaves_dataset_aug.csv\")\r\n",
        "dataset = pd.read_csv(\"leaves.csv\")\r\n",
        "dataset.head(5)\r\n",
        "\r\n",
        "X = dataset.iloc[:,2:]\r\n",
        "\r\n",
        "y = dataset['species']\r\n",
        "y = np.array(y)\r\n",
        "X_train, X_test, y_train, y_test = train_test_split(X, y, test_size=0.3, random_state = 135)\r\n",
        "X_train.head(5)\r\n",
        "\r\n",
        "\r\n",
        "#skaliranje\r\n",
        "sc_X = StandardScaler()\r\n",
        "X_train = sc_X.fit_transform(X_train)\r\n",
        "X_test = sc_X.transform(X_test)"
      ],
      "execution_count": 145,
      "outputs": []
    },
    {
      "cell_type": "code",
      "metadata": {
        "colab": {
          "base_uri": "https://localhost:8080/"
        },
        "id": "KV42JJ0v7Zql",
        "outputId": "704cc96e-2d84-4233-9594-59fd7cc11812"
      },
      "source": [
        "!pip install mahotas"
      ],
      "execution_count": null,
      "outputs": [
        {
          "output_type": "stream",
          "text": [
            "Collecting mahotas\n",
            "\u001b[?25l  Downloading https://files.pythonhosted.org/packages/ce/3b/1f3fe2f86ffdb4a2fbc6baaf4ef0e6cebdd3e127de44ddd188dc2ed0d412/mahotas-1.4.11-cp36-cp36m-manylinux2010_x86_64.whl (5.7MB)\n",
            "\u001b[K     |████████████████████████████████| 5.7MB 4.8MB/s \n",
            "\u001b[?25hRequirement already satisfied: numpy in /usr/local/lib/python3.6/dist-packages (from mahotas) (1.19.5)\n",
            "Installing collected packages: mahotas\n",
            "Successfully installed mahotas-1.4.11\n"
          ],
          "name": "stdout"
        }
      ]
    },
    {
      "cell_type": "code",
      "metadata": {
        "id": "jxGDBQWd5z4S"
      },
      "source": [
        "import mahotas as mt\n",
        "import re\n",
        "import matplotlib\n",
        "import matplotlib.pyplot as plt"
      ],
      "execution_count": 72,
      "outputs": []
    },
    {
      "cell_type": "code",
      "metadata": {
        "colab": {
          "base_uri": "https://localhost:8080/"
        },
        "id": "p8upNcvvuixg",
        "outputId": "f55d110a-e79a-4be7-acb9-e7539058c232"
      },
      "source": [
        "parameters = [{'kernel': ['rbf'],\n",
        "               'gamma': [1e-4, 1e-3, 0.01, 0.1, 0.2, 0.5],\n",
        "               'C': [1, 10, 100, 1000]},\n",
        "              {'kernel': ['linear'], 'C': [1, 10, 100, 1000]}\n",
        "             ]\n",
        "svm_clf = GridSearchCV(svm.SVC(decision_function_shape='ovr'), parameters)\n",
        "svm_clf.fit(X_train, y_train)"
      ],
      "execution_count": 146,
      "outputs": [
        {
          "output_type": "execute_result",
          "data": {
            "text/plain": [
              "GridSearchCV(cv=None, error_score=nan,\n",
              "             estimator=SVC(C=1.0, break_ties=False, cache_size=200,\n",
              "                           class_weight=None, coef0=0.0,\n",
              "                           decision_function_shape='ovr', degree=3,\n",
              "                           gamma='scale', kernel='rbf', max_iter=-1,\n",
              "                           probability=False, random_state=None, shrinking=True,\n",
              "                           tol=0.001, verbose=False),\n",
              "             iid='deprecated', n_jobs=None,\n",
              "             param_grid=[{'C': [1, 10, 100, 1000],\n",
              "                          'gamma': [0.0001, 0.001, 0.01, 0.1, 0.2, 0.5],\n",
              "                          'kernel': ['rbf']},\n",
              "                         {'C': [1, 10, 100, 1000], 'kernel': ['linear']}],\n",
              "             pre_dispatch='2*n_jobs', refit=True, return_train_score=False,\n",
              "             scoring=None, verbose=0)"
            ]
          },
          "metadata": {
            "tags": []
          },
          "execution_count": 146
        }
      ]
    },
    {
      "cell_type": "code",
      "metadata": {
        "colab": {
          "base_uri": "https://localhost:8080/"
        },
        "id": "6JpD0x2luszY",
        "outputId": "535d3cdc-fe44-421a-c44f-e47bb314c829"
      },
      "source": [
        "svm_clf.best_params_"
      ],
      "execution_count": 133,
      "outputs": [
        {
          "output_type": "execute_result",
          "data": {
            "text/plain": [
              "{'C': 100, 'kernel': 'linear'}"
            ]
          },
          "metadata": {
            "tags": []
          },
          "execution_count": 133
        }
      ]
    },
    {
      "cell_type": "code",
      "metadata": {
        "colab": {
          "base_uri": "https://localhost:8080/"
        },
        "id": "RXrIueERvurl",
        "scrolled": true,
        "outputId": "d59c97f0-6450-4e65-9726-198a2a4a7950"
      },
      "source": [
        "clf = svm.SVC(C=100.0, decision_function_shape='ovr', degree=3, gamma=0.01, kernel='linear',)\n",
        "clf.fit(X_train,y_train)"
      ],
      "execution_count": 134,
      "outputs": [
        {
          "output_type": "execute_result",
          "data": {
            "text/plain": [
              "SVC(C=100.0, break_ties=False, cache_size=200, class_weight=None, coef0=0.0,\n",
              "    decision_function_shape='ovr', degree=3, gamma=0.01, kernel='linear',\n",
              "    max_iter=-1, probability=False, random_state=None, shrinking=True,\n",
              "    tol=0.001, verbose=False)"
            ]
          },
          "metadata": {
            "tags": []
          },
          "execution_count": 134
        }
      ]
    },
    {
      "cell_type": "code",
      "metadata": {
        "id": "sXPdWgLo5z4U"
      },
      "source": [
        "# filename = 'finalized_model2.sav'\n",
        "# pickle.dump(clf, open(filename, 'wb'))\n",
        "# pickle.dump(sc_X, open('standard_scaler2.sav', 'wb'))"
      ],
      "execution_count": null,
      "outputs": []
    },
    {
      "cell_type": "code",
      "metadata": {
        "colab": {
          "base_uri": "https://localhost:8080/"
        },
        "id": "h4MciJQlwIsT",
        "outputId": "bf3e3620-6b2b-4307-e74b-2d6ebb414211"
      },
      "source": [
        "y_pred = clf.predict(X_test)\n",
        "\n",
        "metrics.accuracy_score(y_test, y_pred)"
      ],
      "execution_count": 135,
      "outputs": [
        {
          "output_type": "execute_result",
          "data": {
            "text/plain": [
              "0.9092495636998255"
            ]
          },
          "metadata": {
            "tags": []
          },
          "execution_count": 135
        }
      ]
    },
    {
      "cell_type": "code",
      "metadata": {
        "id": "IgZ8eyKm5z4V"
      },
      "source": [
        "def preprocess_leaf(image):\n",
        "  names = ['area','perimeter','pysiological_length','pysiological_width','aspect_ratio','rectangularity','circularity', \\\n",
        "        'mean_r','mean_g','mean_b','stddev_r','stddev_g','stddev_b', \\\n",
        "        'contrast','correlation','inverse_difference_moments','entropy'\n",
        "      ]\n",
        "  df = pd.DataFrame([], columns=names)\n",
        "  gray = cv2.cvtColor(image,cv2.COLOR_RGB2GRAY)\n",
        "\n",
        "  blur = cv2.GaussianBlur(gray, (55,55),0)\n",
        "\n",
        "  ret,otsu = cv2.threshold(blur,0,255,cv2.THRESH_BINARY_INV+cv2.THRESH_OTSU)\n",
        "\n",
        "  kernel = np.ones((50,50),np.uint8) \n",
        "\n",
        "  closing = cv2.morphologyEx(otsu, cv2.MORPH_CLOSE, kernel) #mask\n",
        "\n",
        "  contours, hierarchy = cv2.findContours(closing, cv2.RETR_TREE, cv2.CHAIN_APPROX_SIMPLE)\n",
        "  len(contours)\n",
        "  \n",
        "  cnt = contours[0]\n",
        "  len(cnt)\n",
        "\n",
        "  area = cv2.contourArea(cnt)\n",
        "  perimeter = cv2.arcLength(cnt,True)\n",
        "\n",
        "#Shape features\n",
        "  x,y,w,h = cv2.boundingRect(cnt)\n",
        "  aspect_ratio = float(w)/h\n",
        "  rectangularity = (w*h/area)\n",
        "  circularity = ((perimeter)**2)/area\n",
        "\n",
        "#Color features\n",
        "  red_channel = img[:,:,0]\n",
        "  green_channel = img[:,:,1]\n",
        "  blue_channel = img[:,:,2]\n",
        "  blue_channel[blue_channel == 255] = 0\n",
        "  green_channel[green_channel == 255] = 0\n",
        "  red_channel[red_channel == 255] = 0\n",
        "\n",
        "  red_mean = np.mean(red_channel)\n",
        "  green_mean = np.mean(green_channel)\n",
        "  blue_mean = np.mean(blue_channel)\n",
        "\n",
        "  red_std = np.std(red_channel) \n",
        "  green_std = np.std(green_channel)\n",
        "  blue_std = np.std(blue_channel)\n",
        "\n",
        "#Texture features\n",
        "  textures = mt.features.haralick(gray)\n",
        "  ht_mean = textures.mean(axis=0)\n",
        "  contrast = ht_mean[1]\n",
        "  correlation = ht_mean[2]\n",
        "  inverse_diff_moments = ht_mean[4]\n",
        "  entropy = ht_mean[8]\n",
        "\n",
        "  vector = [area,perimeter,w,h,aspect_ratio,rectangularity,circularity,\\\n",
        "      red_mean,green_mean,blue_mean,red_std,green_std,blue_std,\\\n",
        "      contrast,correlation,inverse_diff_moments,entropy]\n",
        "  df_temp = pd.DataFrame([vector],columns=names)\n",
        "  df = df.append(df_temp)\n",
        "  return df"
      ],
      "execution_count": 206,
      "outputs": []
    },
    {
      "cell_type": "code",
      "metadata": {
        "id": "hS-9XNbN5z4V",
        "colab": {
          "base_uri": "https://localhost:8080/"
        },
        "outputId": "9124dbe1-5675-41c6-c766-5cc6c9dfaa30"
      },
      "source": [
        "train_df = pd.read_csv('maple_coord.csv')\r\n",
        "print(train_df)"
      ],
      "execution_count": 197,
      "outputs": [
        {
          "output_type": "stream",
          "text": [
            "   Unnamed: 0       name    x    y     w    h\n",
            "0           0  maple.jpg  564   32   815  261\n",
            "1           0  maple.jpg  475  228   677  416\n",
            "2           0  maple.jpg  832  332  1023  565\n",
            "3           0  maple.jpg  320   68   542  319\n",
            "4           0  maple.jpg  763  687   948  878\n"
          ],
          "name": "stdout"
        }
      ]
    },
    {
      "cell_type": "code",
      "metadata": {
        "id": "et_GeSac5z4W"
      },
      "source": [
        "classes = []\n",
        "def find_class(leaf_features):\n",
        "  scaled_features = sc_X.transform(leaf_features)\n",
        "  y_pred_mobile = clf.predict(scaled_features)\n",
        "  classes.append(y_pred_mobile[0])"
      ],
      "execution_count": 210,
      "outputs": []
    },
    {
      "cell_type": "code",
      "metadata": {
        "id": "FEe_NQ-05z4X"
      },
      "source": [
        "def find_outpt(classes):\n",
        "   return max(set(classes), key = classes.count)\n",
        "\n",
        "def calculate_percent(classes, class_index):\n",
        "  result = classes.count(class_index)*100.0/len(classes)\n",
        "  return result\n",
        "\n",
        "def get_name(class_index):\n",
        "  common_names = ['pubescent bamboo','Chinese horse chestnut','Anhui Barberry', \\\n",
        "                'Chinese redbud','true indigo','Japanese maple','Nanmu',' castor aralia', \\\n",
        "                'Chinese cinnamon','goldenrain tree','Big-fruited Holly','Japanese cheesewood', \\\n",
        "                'wintersweet','camphortree','Japan Arrowwood','sweet osmanthus','deodar','ginkgo, maidenhair tree', \\\n",
        "                'Crape myrtle, Crepe myrtle','oleander','yew plum pine','Japanese Flowering Cherry','Glossy Privet',\\\n",
        "                'Chinese Toon','peach','Ford Woodlotus','trident maple','Beales barberry','southern magnolia',\\\n",
        "                'Canadian poplar','Chinese tulip tree','tangerine'\n",
        "               ]\n",
        "  return common_names[class_index]"
      ],
      "execution_count": 199,
      "outputs": []
    },
    {
      "cell_type": "code",
      "metadata": {
        "id": "GEzLfG4j5z4X"
      },
      "source": [
        "def find_contour(cnts, resized_image):\n",
        "    contains = []\n",
        "    y_ri,x_ri, _ = resized_image.shape\n",
        "    for cc in cnts:\n",
        "        yn = cv2.pointPolygonTest(cc,(x_ri//2,y_ri//2),False)\n",
        "        contains.append(yn)\n",
        "\n",
        "    val = [contains.index(temp) for temp in contains if temp>0]\n",
        "    return val[0]"
      ],
      "execution_count": 208,
      "outputs": []
    },
    {
      "cell_type": "code",
      "metadata": {
        "id": "bv13nGt-5z4Y"
      },
      "source": [
        "def background_remover(img):\n",
        "  ## convert to hsv\n",
        "  hsv = cv2.cvtColor(img, cv2.COLOR_BGR2HSV)\n",
        "\n",
        "  ## mask of green (36,0,0) ~ (70, 255,255)\n",
        "  mask_green = cv2.inRange(hsv, (20, 52, 72), (90, 255,255))\n",
        "  # find the brown color\n",
        "  mask_brown = cv2.inRange(hsv, (8, 60, 20), (30, 255, 200))\n",
        "  ## mask o yellow (15,0,0) ~ (36, 255, 255)\n",
        "  mask_yellow = cv2.inRange(hsv, (15,0,0), (36, 255, 255))\n",
        "\n",
        "  ## final mask and masked\n",
        "  lower = np.array([100, 42, 69])\n",
        "  upper = np.array([179, 255, 255])\n",
        "  mask = cv2.inRange(hsv, lower, upper) \n",
        "  mask = cv2.bitwise_or(mask_yellow, mask_brown)\n",
        "  mask = cv2.bitwise_or(mask_green, mask_brown)\n",
        "  # mask = cv2.bitwise_or(mask_green, mask_yellow)\n",
        "  target = cv2.bitwise_and(img,img, mask=mask)\n",
        "\n",
        "  return target"
      ],
      "execution_count": 201,
      "outputs": []
    },
    {
      "cell_type": "code",
      "metadata": {
        "colab": {
          "base_uri": "https://localhost:8080/",
          "height": 305
        },
        "id": "De-T6fsF5z4Y",
        "outputId": "6a24bc36-675a-4ec0-f336-be1c54a4a04e"
      },
      "source": [
        "#Identifying plant\n",
        "# detektovani listovi sa upisanim koordinatama\n",
        "img = cv2.imread(\"maple.jpg\")\n",
        "classes = []\n",
        "original_img = cv2.cvtColor(img, cv2.COLOR_BGR2RGB) # konvertovanje iz BGR u RGB model boja (OpenCV ucita sliku kao BGR)\n",
        "plt.imshow(original_img)\n",
        "plt.show()\n",
        "\n",
        "for index, row in train_df.iterrows():\n",
        "  x = int(row['x'])\n",
        "  y = int(row['y'])\n",
        "  w = int(row['w'])-x\n",
        "  h = int(row['h'])-y\n",
        "  crop_img = original_img[y:y + h,x:x + w]\n",
        "  crop_img = background_remover(crop_img)\n",
        "  leaf_features = preprocess_leaf(crop_img)\n",
        "  find_class(leaf_features)\n",
        "print(\"Found classes: \", classes)\n",
        "leaf_class = find_outpt(classes)\n",
        "result = calculate_percent(classes, leaf_class)\n",
        "print(\"This plant is \", result, \" percent \", get_name(leaf_class))\n"
      ],
      "execution_count": 213,
      "outputs": [
        {
          "output_type": "display_data",
          "data": {
            "image/png": "[encoded data removed]",
            "text/plain": [
              "<Figure size 432x288 with 1 Axes>"
            ]
          },
          "metadata": {
            "tags": [],
            "needs_background": "light"
          }
        },
        {
          "output_type": "stream",
          "text": [
            "Found classes:  [5, 5, 5, 5, 5]\n",
            "This plant is  100.0  percent  Japanese maple\n"
          ],
          "name": "stdout"
        }
      ]
    }
  ]
}